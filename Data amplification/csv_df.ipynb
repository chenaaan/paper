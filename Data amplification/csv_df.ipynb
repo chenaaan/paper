{
 "cells": [
  {
   "cell_type": "code",
   "execution_count": 1,
   "metadata": {},
   "outputs": [],
   "source": [
    "import pandas as pd\n",
    "import numpy as np\n",
    "import glob\n",
    "import os"
   ]
  },
  {
   "cell_type": "code",
   "execution_count": 2,
   "metadata": {},
   "outputs": [],
   "source": [
    "train_path_pos='orderimage/train/1-normal'\n",
    "train_path_neg='orderimage/train/0-abnormal'\n",
    "\n",
    "val_path_pos='orderimage/val/1-normal'\n",
    "val_path_neg='orderimage/val/0-abnormal'"
   ]
  },
  {
   "cell_type": "code",
   "execution_count": 3,
   "metadata": {},
   "outputs": [],
   "source": [
    "train_paths_1=glob.glob(train_path_pos+'/*')\n",
    "train_paths_0=glob.glob(train_path_neg+'/*')\n",
    "\n",
    "val_paths_1=glob.glob(val_path_pos+'/*')\n",
    "val_paths_0=glob.glob(val_path_neg+'/*')"
   ]
  },
  {
   "cell_type": "code",
   "execution_count": 4,
   "metadata": {},
   "outputs": [],
   "source": [
    "train_df=pd.DataFrame(np.zeros((len(train_paths_1)+len(train_paths_0),3)),columns=['img_name','img_path','label'])\n",
    "val_df=pd.DataFrame(np.zeros((len(val_paths_1)+len(val_paths_0),3)),columns=['img_name','img_path','label'])"
   ]
  },
  {
   "cell_type": "code",
   "execution_count": 5,
   "metadata": {},
   "outputs": [],
   "source": [
    "for index,train_path in enumerate(train_paths_0):\n",
    "    train_df.iloc[index,0]=os.path.split(train_path)[1]\n",
    "    train_df.iloc[index,1]=train_path\n",
    "    train_df.iloc[index,2]=0\n",
    "for index,train_path in enumerate(train_paths_1):\n",
    "    train_df.iloc[index+len(train_paths_0),0]=os.path.split(train_path)[1]\n",
    "    train_df.iloc[index+len(train_paths_0),1]=train_path\n",
    "    train_df.iloc[index+len(train_paths_0),2]=1"
   ]
  },
  {
   "cell_type": "code",
   "execution_count": 6,
   "metadata": {},
   "outputs": [],
   "source": [
    "for index,val_path in enumerate(val_paths_0):\n",
    "    val_df.iloc[index,0]=os.path.split(val_path)[1]\n",
    "    val_df.iloc[index,1]=val_path\n",
    "    val_df.iloc[index,2]=0\n",
    "\n",
    "for index,val_path in enumerate(val_paths_1):\n",
    "    val_df.iloc[index+len(val_paths_0),0]=os.path.split(val_path)[1]\n",
    "    val_df.iloc[index+len(val_paths_0),1]=val_path\n",
    "    val_df.iloc[index+len(val_paths_0),2]=1"
   ]
  },
  {
   "cell_type": "code",
   "execution_count": 7,
   "metadata": {},
   "outputs": [],
   "source": [
    "#print(train_df)"
   ]
  },
  {
   "cell_type": "code",
   "execution_count": 8,
   "metadata": {},
   "outputs": [],
   "source": [
    "train_df.to_csv('orderimage_train_df.csv',index=None)\n",
    "val_df.to_csv('orderimage_val_df.csv',index=None)"
   ]
  },
  {
   "cell_type": "code",
   "execution_count": null,
   "metadata": {},
   "outputs": [],
   "source": []
  }
 ],
 "metadata": {
  "kernelspec": {
   "display_name": "Python 3",
   "language": "python",
   "name": "python3"
  },
  "language_info": {
   "codemirror_mode": {
    "name": "ipython",
    "version": 3
   },
   "file_extension": ".py",
   "mimetype": "text/x-python",
   "name": "python",
   "nbconvert_exporter": "python",
   "pygments_lexer": "ipython3",
   "version": "3.6.5"
  }
 },
 "nbformat": 4,
 "nbformat_minor": 2
}
